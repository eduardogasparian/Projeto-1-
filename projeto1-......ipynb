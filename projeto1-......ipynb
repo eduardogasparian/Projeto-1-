{
 "cells": [
  {
   "cell_type": "markdown",
   "metadata": {},
   "source": [
    "# PROJETO 1\n"
   ]
  },
  {
   "cell_type": "markdown",
   "metadata": {},
   "source": [
    "EDUARDO DE CASTRO ANDRADE GASPARIAN"
   ]
  },
  {
   "cell_type": "markdown",
   "metadata": {},
   "source": []
  },
  {
   "cell_type": "markdown",
   "metadata": {},
   "source": [
    "# INTRODUÇÃO:\n",
    "\n",
    "    "
   ]
  },
  {
   "cell_type": "markdown",
   "metadata": {},
   "source": [
    "O projeto 1 consiste em uma analise entre 3 tipos de dados sobre todos os paises do mundo. Esses 3 dados seriam IDH(Índice de Desenvolvimento Humano), indice de mortalidade infantil e porcentagem de pessoas sem emprego. Porem o objetivo desse projeto é analisar e comparar os outros dois dados com o de IDH e assim tirar dele as conclusoes de como o IDH afeta nessas circuntancias. ou vice versa."
   ]
  },
  {
   "cell_type": "markdown",
   "metadata": {},
   "source": [
    "Apos escolher 2 dados para comparar e analisar com os IDH foi formulada a pergunta:\n"
   ]
  },
  {
   "cell_type": "code",
   "execution_count": 3,
   "metadata": {},
   "outputs": [],
   "source": [
    "%matplotlib inline\n",
    "import pandas as pd\n",
    "import matplotlib.pyplot as plt\n",
    "import numpy as np"
   ]
  },
  {
   "cell_type": "code",
   "execution_count": 6,
   "metadata": {},
   "outputs": [],
   "source": [
    "dados_todos = pd.read_excel('todos_dados_comparacoes.xlsx')\n",
    "dados_idh = pd.read_excel('hdi_human_development_index.xlsx')\n",
    "dados_cm = pd.read_excel('child_mortality_0_5_year_olds_dying_per_1000_born.xlsx')\n",
    "dados_unem = pd.read_excel('long_term_unemployment_rate_percent.xlsx')\n"
   ]
  },
  {
   "cell_type": "code",
   "execution_count": null,
   "metadata": {},
   "outputs": [],
   "source": []
  }
 ],
 "metadata": {
  "kernelspec": {
   "display_name": "Python 3",
   "language": "python",
   "name": "python3"
  },
  "language_info": {
   "codemirror_mode": {
    "name": "ipython",
    "version": 3
   },
   "file_extension": ".py",
   "mimetype": "text/x-python",
   "name": "python",
   "nbconvert_exporter": "python",
   "pygments_lexer": "ipython3",
   "version": "3.6.5"
  }
 },
 "nbformat": 4,
 "nbformat_minor": 2
}
